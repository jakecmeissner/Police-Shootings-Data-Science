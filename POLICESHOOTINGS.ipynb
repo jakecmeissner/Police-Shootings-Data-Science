{
 "cells": [
  {
   "cell_type": "markdown",
   "metadata": {},
   "source": [
    "**Dataset from Kaggle about fatal police shooting data, which can be found at https://www.kaggle.com/datasets/ahsen1330/us-police-shootings**\n",
    "\n",
    "**We first explore race then gender then location**\n",
    "\n",
    "**This is some data science work I did in Jupyter notebooks, using Python concerning the data**"
   ]
  },
  {
   "cell_type": "code",
   "execution_count": 1,
   "metadata": {},
   "outputs": [],
   "source": [
    "import numpy as np\n",
    "import pandas as pd\n",
    "import matplotlib.pyplot as plt\n",
    "import seaborn as sns\n",
    "\n",
    "# Set the font size and color for the title using the rcParams dictionary\n",
    "plt.rcParams[\"figure.figsize\"] = (8, 4)\n",
    "plt.rcParams[\"xtick.labelsize\"] = 7\n",
    "\n",
    "plt.rcParams[\"axes.titlesize\"] = 16\n",
    "plt.rcParams[\"axes.titlecolor\"] = \"404040\"\n",
    "plt.rcParams[\"axes.titleweight\"] = \"bold\"\n",
    "plt.rcParams[\"axes.labelsize\"] = \"large\"\n",
    "plt.rcParams[\"axes.labelcolor\"] = \"gray\"\n",
    "\n",
    "# Create a list of colors for the bars\n",
    "colors = [\"coral\", \"green\", \"blue\", \"orange\", \"darkcyan\", \"purple\", \"pink\", \"gray\", \"black\", \"brown\"]"
   ]
  },
  {
   "cell_type": "markdown",
   "metadata": {},
   "source": [
    "***Import data and view head***"
   ]
  },
  {
   "cell_type": "code",
   "execution_count": 2,
   "metadata": {},
   "outputs": [],
   "source": [
    "police_shootings_df = pd.read_csv('../datasets/police_shooting_data/fatal-police-shootings-data.csv')"
   ]
  },
  {
   "cell_type": "code",
   "execution_count": 3,
   "metadata": {},
   "outputs": [
    {
     "data": {
      "text/html": [
       "<div>\n",
       "<style scoped>\n",
       "    .dataframe tbody tr th:only-of-type {\n",
       "        vertical-align: middle;\n",
       "    }\n",
       "\n",
       "    .dataframe tbody tr th {\n",
       "        vertical-align: top;\n",
       "    }\n",
       "\n",
       "    .dataframe thead th {\n",
       "        text-align: right;\n",
       "    }\n",
       "</style>\n",
       "<table border=\"1\" class=\"dataframe\">\n",
       "  <thead>\n",
       "    <tr style=\"text-align: right;\">\n",
       "      <th></th>\n",
       "      <th>id</th>\n",
       "      <th>name</th>\n",
       "      <th>date</th>\n",
       "      <th>manner_of_death</th>\n",
       "      <th>armed</th>\n",
       "      <th>age</th>\n",
       "      <th>gender</th>\n",
       "      <th>race</th>\n",
       "      <th>city</th>\n",
       "      <th>state</th>\n",
       "      <th>signs_of_mental_illness</th>\n",
       "      <th>threat_level</th>\n",
       "      <th>flee</th>\n",
       "      <th>body_camera</th>\n",
       "    </tr>\n",
       "  </thead>\n",
       "  <tbody>\n",
       "    <tr>\n",
       "      <th>0</th>\n",
       "      <td>3</td>\n",
       "      <td>Tim Elliot</td>\n",
       "      <td>2015-01-02</td>\n",
       "      <td>shot</td>\n",
       "      <td>gun</td>\n",
       "      <td>53.0</td>\n",
       "      <td>M</td>\n",
       "      <td>A</td>\n",
       "      <td>Shelton</td>\n",
       "      <td>WA</td>\n",
       "      <td>True</td>\n",
       "      <td>attack</td>\n",
       "      <td>Not fleeing</td>\n",
       "      <td>False</td>\n",
       "    </tr>\n",
       "    <tr>\n",
       "      <th>1</th>\n",
       "      <td>4</td>\n",
       "      <td>Lewis Lee Lembke</td>\n",
       "      <td>2015-01-02</td>\n",
       "      <td>shot</td>\n",
       "      <td>gun</td>\n",
       "      <td>47.0</td>\n",
       "      <td>M</td>\n",
       "      <td>W</td>\n",
       "      <td>Aloha</td>\n",
       "      <td>OR</td>\n",
       "      <td>False</td>\n",
       "      <td>attack</td>\n",
       "      <td>Not fleeing</td>\n",
       "      <td>False</td>\n",
       "    </tr>\n",
       "    <tr>\n",
       "      <th>2</th>\n",
       "      <td>5</td>\n",
       "      <td>John Paul Quintero</td>\n",
       "      <td>2015-01-03</td>\n",
       "      <td>shot and Tasered</td>\n",
       "      <td>unarmed</td>\n",
       "      <td>23.0</td>\n",
       "      <td>M</td>\n",
       "      <td>H</td>\n",
       "      <td>Wichita</td>\n",
       "      <td>KS</td>\n",
       "      <td>False</td>\n",
       "      <td>other</td>\n",
       "      <td>Not fleeing</td>\n",
       "      <td>False</td>\n",
       "    </tr>\n",
       "    <tr>\n",
       "      <th>3</th>\n",
       "      <td>8</td>\n",
       "      <td>Matthew Hoffman</td>\n",
       "      <td>2015-01-04</td>\n",
       "      <td>shot</td>\n",
       "      <td>toy weapon</td>\n",
       "      <td>32.0</td>\n",
       "      <td>M</td>\n",
       "      <td>W</td>\n",
       "      <td>San Francisco</td>\n",
       "      <td>CA</td>\n",
       "      <td>True</td>\n",
       "      <td>attack</td>\n",
       "      <td>Not fleeing</td>\n",
       "      <td>False</td>\n",
       "    </tr>\n",
       "    <tr>\n",
       "      <th>4</th>\n",
       "      <td>9</td>\n",
       "      <td>Michael Rodriguez</td>\n",
       "      <td>2015-01-04</td>\n",
       "      <td>shot</td>\n",
       "      <td>nail gun</td>\n",
       "      <td>39.0</td>\n",
       "      <td>M</td>\n",
       "      <td>H</td>\n",
       "      <td>Evans</td>\n",
       "      <td>CO</td>\n",
       "      <td>False</td>\n",
       "      <td>attack</td>\n",
       "      <td>Not fleeing</td>\n",
       "      <td>False</td>\n",
       "    </tr>\n",
       "  </tbody>\n",
       "</table>\n",
       "</div>"
      ],
      "text/plain": [
       "   id                name        date   manner_of_death       armed   age  \\\n",
       "0   3          Tim Elliot  2015-01-02              shot         gun  53.0   \n",
       "1   4    Lewis Lee Lembke  2015-01-02              shot         gun  47.0   \n",
       "2   5  John Paul Quintero  2015-01-03  shot and Tasered     unarmed  23.0   \n",
       "3   8     Matthew Hoffman  2015-01-04              shot  toy weapon  32.0   \n",
       "4   9   Michael Rodriguez  2015-01-04              shot    nail gun  39.0   \n",
       "\n",
       "  gender race           city state  signs_of_mental_illness threat_level  \\\n",
       "0      M    A        Shelton    WA                     True       attack   \n",
       "1      M    W          Aloha    OR                    False       attack   \n",
       "2      M    H        Wichita    KS                    False        other   \n",
       "3      M    W  San Francisco    CA                     True       attack   \n",
       "4      M    H          Evans    CO                    False       attack   \n",
       "\n",
       "          flee  body_camera  \n",
       "0  Not fleeing        False  \n",
       "1  Not fleeing        False  \n",
       "2  Not fleeing        False  \n",
       "3  Not fleeing        False  \n",
       "4  Not fleeing        False  "
      ]
     },
     "execution_count": 3,
     "metadata": {},
     "output_type": "execute_result"
    }
   ],
   "source": [
    "police_shootings_df.head()"
   ]
  },
  {
   "cell_type": "markdown",
   "metadata": {},
   "source": [
    "***View the info breakdown of the dataframe. We notice here that there are 3,464 different data points in our set and 14 different columns, with id included among other informative descriptions for the state of the shooting***"
   ]
  },
  {
   "cell_type": "code",
   "execution_count": 4,
   "metadata": {},
   "outputs": [
    {
     "name": "stdout",
     "output_type": "stream",
     "text": [
      "<class 'pandas.core.frame.DataFrame'>\n",
      "RangeIndex: 3464 entries, 0 to 3463\n",
      "Data columns (total 14 columns):\n",
      " #   Column                   Non-Null Count  Dtype  \n",
      "---  ------                   --------------  -----  \n",
      " 0   id                       3464 non-null   int64  \n",
      " 1   name                     3464 non-null   object \n",
      " 2   date                     3464 non-null   object \n",
      " 3   manner_of_death          3464 non-null   object \n",
      " 4   armed                    3458 non-null   object \n",
      " 5   age                      3334 non-null   float64\n",
      " 6   gender                   3459 non-null   object \n",
      " 7   race                     3170 non-null   object \n",
      " 8   city                     3464 non-null   object \n",
      " 9   state                    3464 non-null   object \n",
      " 10  signs_of_mental_illness  3464 non-null   bool   \n",
      " 11  threat_level             3464 non-null   object \n",
      " 12  flee                     3349 non-null   object \n",
      " 13  body_camera              3464 non-null   bool   \n",
      "dtypes: bool(2), float64(1), int64(1), object(10)\n",
      "memory usage: 331.6+ KB\n"
     ]
    }
   ],
   "source": [
    "police_shootings_df.info()"
   ]
  },
  {
   "cell_type": "markdown",
   "metadata": {},
   "source": [
    "***Earliest and latest pieces of data***\n",
    "\n",
    "All data is between 01/02/2015 and 07/04/2018"
   ]
  },
  {
   "cell_type": "code",
   "execution_count": 5,
   "metadata": {},
   "outputs": [
    {
     "data": {
      "text/plain": [
       "'2018-07-04'"
      ]
     },
     "execution_count": 5,
     "metadata": {},
     "output_type": "execute_result"
    }
   ],
   "source": [
    "police_shootings_df['date'].max()"
   ]
  },
  {
   "cell_type": "code",
   "execution_count": 6,
   "metadata": {},
   "outputs": [
    {
     "data": {
      "text/plain": [
       "'2015-01-02'"
      ]
     },
     "execution_count": 6,
     "metadata": {},
     "output_type": "execute_result"
    }
   ],
   "source": [
    "police_shootings_df['date'].min()"
   ]
  },
  {
   "cell_type": "markdown",
   "metadata": {},
   "source": [
    "***Exploring some information on the data racial makeup using Pandas***"
   ]
  },
  {
   "cell_type": "code",
   "execution_count": 7,
   "metadata": {},
   "outputs": [
    {
     "data": {
      "text/plain": [
       "id                         3464\n",
       "name                       3349\n",
       "date                       1193\n",
       "manner_of_death               2\n",
       "armed                        77\n",
       "age                          76\n",
       "gender                        2\n",
       "race                          6\n",
       "city                       1810\n",
       "state                        51\n",
       "signs_of_mental_illness       2\n",
       "threat_level                  3\n",
       "flee                          4\n",
       "body_camera                   2\n",
       "dtype: int64"
      ]
     },
     "execution_count": 7,
     "metadata": {},
     "output_type": "execute_result"
    }
   ],
   "source": [
    "police_shootings_df.nunique()"
   ]
  },
  {
   "cell_type": "code",
   "execution_count": 8,
   "metadata": {},
   "outputs": [
    {
     "data": {
      "text/plain": [
       "array(['A', 'W', 'H', 'B', 'O', nan, 'N'], dtype=object)"
      ]
     },
     "execution_count": 8,
     "metadata": {},
     "output_type": "execute_result"
    }
   ],
   "source": [
    "police_shootings_df['race'].unique()"
   ]
  },
  {
   "cell_type": "code",
   "execution_count": 9,
   "metadata": {},
   "outputs": [
    {
     "data": {
      "text/plain": [
       "W    1631\n",
       "B     818\n",
       "H     579\n",
       "A      55\n",
       "N      55\n",
       "O      32\n",
       "Name: race, dtype: int64"
      ]
     },
     "execution_count": 9,
     "metadata": {},
     "output_type": "execute_result"
    }
   ],
   "source": [
    "police_shootings_df['race'].value_counts()"
   ]
  },
  {
   "cell_type": "markdown",
   "metadata": {},
   "source": [
    "***Create a function to rename the races to their actual name value as opposed to the abbreviation for readability***"
   ]
  },
  {
   "cell_type": "code",
   "execution_count": 10,
   "metadata": {},
   "outputs": [
    {
     "data": {
      "text/plain": [
       "White       1631\n",
       "Black        818\n",
       "Hispanic     579\n",
       "Asian         55\n",
       "Other         32\n",
       "Name: race, dtype: int64"
      ]
     },
     "execution_count": 10,
     "metadata": {},
     "output_type": "execute_result"
    }
   ],
   "source": [
    "def rename_races(race):\n",
    "    if race == 'W':\n",
    "        return 'White'\n",
    "    elif race == 'B':\n",
    "        return 'Black'\n",
    "    elif race == 'H':\n",
    "        return 'Hispanic'\n",
    "    elif race == 'A':\n",
    "        return 'Asian'\n",
    "    elif race == 'O':\n",
    "        return 'Other'\n",
    "\n",
    "police_shootings_df['race'] = police_shootings_df['race'].map(rename_races)\n",
    "police_shootings_df['race'].value_counts()"
   ]
  },
  {
   "cell_type": "markdown",
   "metadata": {},
   "source": [
    "***Here, we can use matplotlib to visually plot out the average age of the different races involved with fatal police shootings***\n",
    "\n",
    "***Interestingly, it shows us that black and asian victims tended to be younger than hispanic victims, who were also younger than white and other victims. One might infer younger black and asians would be more likely to be victims.***"
   ]
  },
  {
   "cell_type": "code",
   "execution_count": 36,
   "metadata": {},
   "outputs": [
    {
     "data": {
      "text/plain": [
       "(20.0, 45.0)"
      ]
     },
     "execution_count": 36,
     "metadata": {},
     "output_type": "execute_result"
    },
    {
     "data": {
      "image/png": "[encoded data removed]",
      "text/plain": [
       "<Figure size 576x432 with 1 Axes>"
      ]
     },
     "metadata": {
      "needs_background": "light"
     },
     "output_type": "display_data"
    }
   ],
   "source": [
    "plt.figure(figsize=(8, 6))\n",
    "\n",
    "plt.bar(x=police_shootings_df['race'].value_counts().index, height=police_shootings_df.groupby('race')['age'].mean(), color=colors)\n",
    "\n",
    "plt.xticks(fontsize=10)\n",
    "plt.xlabel('Race', fontweight='bold', fontsize=13)\n",
    "plt.ylabel('Average age of police shooting victims' 'Race', fontweight='bold', fontsize=13)\n",
    "plt.title('Average Age of Police Shooting Victims', fontname='Arial')\n",
    "\n",
    "# Get the current axes object and set the y-axis limits\n",
    "ax = plt.gca()\n",
    "ax.set_ylim(20, 45)\n"
   ]
  },
  {
   "cell_type": "markdown",
   "metadata": {},
   "source": [
    "***Groupby race of signs of mental illness, then make a pandas Series to represent the values***\n",
    "\n",
    "***Then use groupby and lambda to make the percentage calculation of individuals with signs of mental illness for each race***"
   ]
  },
  {
   "cell_type": "code",
   "execution_count": 52,
   "metadata": {},
   "outputs": [
    {
     "data": {
      "text/plain": [
       "race      signs_of_mental_illness\n",
       "Asian     False                        39\n",
       "          True                         16\n",
       "Black     False                       688\n",
       "          True                        130\n",
       "Hispanic  False                       468\n",
       "          True                        111\n",
       "Other     False                        24\n",
       "          True                          8\n",
       "White     False                      1133\n",
       "          True                        498\n",
       "Name: signs_of_mental_illness, dtype: int64"
      ]
     },
     "execution_count": 52,
     "metadata": {},
     "output_type": "execute_result"
    }
   ],
   "source": [
    "# Store the data in a series \n",
    "mental_illness_by_race_series = police_shootings_df.groupby('race')['signs_of_mental_illness'].value_counts()\n",
    "mental_illness_by_race_series"
   ]
  },
  {
   "cell_type": "code",
   "execution_count": 53,
   "metadata": {},
   "outputs": [
    {
     "data": {
      "text/plain": [
       "race\n",
       "Asian       0.290909\n",
       "Black       0.158924\n",
       "Hispanic    0.191710\n",
       "Other       0.250000\n",
       "White       0.305334\n",
       "Name: signs_of_mental_illness, dtype: float64"
      ]
     },
     "execution_count": 53,
     "metadata": {},
     "output_type": "execute_result"
    }
   ],
   "source": [
    "#Group the data by the \"race\" column and calculate the percentage of individuals with signs of mental illness in each group\n",
    "\n",
    "mental_illness_by_race = mental_illness_by_race_series.groupby(level=0).apply(lambda x: x[1] / (x[0] + x[1]))\n",
    "mental_illness_by_race"
   ]
  },
  {
   "cell_type": "markdown",
   "metadata": {},
   "source": [
    "***We then can make a bar plot of this which shows us an interesting statistic...***\n",
    "\n",
    "***It appears black victims had the fewest percentage that showed signs of mental illness, followed by hispanics, other, asian, then white. One can wonder what the reason is for this difference in signs of mental illness between the races and what exactly was defined as \"a sign of mental illness from the incident\"***"
   ]
  },
  {
   "cell_type": "code",
   "execution_count": 32,
   "metadata": {},
   "outputs": [
    {
     "data": {
      "text/plain": [
       "Text(0.5, 1.0, 'Percentage (%) of Police Shooting Victims Who Showed Signs of Mental Illness')"
      ]
     },
     "execution_count": 32,
     "metadata": {},
     "output_type": "execute_result"
    },
    {
     "data": {
      "image/png": "[encoded data removed]",
      "text/plain": [
       "<Figure size 576x288 with 1 Axes>"
      ]
     },
     "metadata": {
      "needs_background": "light"
     },
     "output_type": "display_data"
    }
   ],
   "source": [
    "plt.bar(x=mental_illness_by_race.index, height=mental_illness_by_race.values, color=colors)\n",
    "\n",
    "plt.xticks(fontsize=10)\n",
    "plt.xlabel('Race', fontweight='bold', fontsize=13)\n",
    "plt.ylabel('Percent (%)', fontweight='bold', fontsize=13)\n",
    "plt.title('Percentage (%) of Police Shooting Victims Who Showed Signs of Mental Illness', fontname='Arial')\n"
   ]
  },
  {
   "cell_type": "markdown",
   "metadata": {},
   "source": [
    "***We now examine the threat level and fleeing status of the victims***\n",
    "\n",
    "***It is important to consider context in data and not make assumptions on individuals***"
   ]
  },
  {
   "cell_type": "code",
   "execution_count": 101,
   "metadata": {},
   "outputs": [],
   "source": [
    "threat_level_by_race_series = police_shootings_df.groupby('race')['threat_level'].value_counts()\n",
    "flee_by_race_series = police_shootings_df.groupby('race')['flee'].value_counts()"
   ]
  },
  {
   "cell_type": "code",
   "execution_count": 102,
   "metadata": {},
   "outputs": [
    {
     "data": {
      "text/plain": [
       "race      threat_level\n",
       "Asian     attack            29\n",
       "          other             24\n",
       "          undetermined       2\n",
       "Black     attack           534\n",
       "          other            244\n",
       "          undetermined      40\n",
       "Hispanic  attack           325\n",
       "          other            214\n",
       "          undetermined      40\n",
       "Other     attack            19\n",
       "          other             13\n",
       "White     attack          1057\n",
       "          other            505\n",
       "          undetermined      69\n",
       "Name: threat_level, dtype: int64"
      ]
     },
     "execution_count": 102,
     "metadata": {},
     "output_type": "execute_result"
    }
   ],
   "source": [
    "threat_level_by_race_series"
   ]
  },
  {
   "cell_type": "code",
   "execution_count": 103,
   "metadata": {},
   "outputs": [
    {
     "data": {
      "text/plain": [
       "race      flee       \n",
       "Asian     Not fleeing      42\n",
       "          Foot              6\n",
       "          Car               5\n",
       "Black     Not fleeing     480\n",
       "          Foot            154\n",
       "          Car             130\n",
       "          Other            30\n",
       "Hispanic  Not fleeing     361\n",
       "          Car             102\n",
       "          Foot             72\n",
       "          Other            25\n",
       "Other     Not fleeing      23\n",
       "          Car               6\n",
       "          Foot              2\n",
       "          Other             1\n",
       "White     Not fleeing    1119\n",
       "          Car             259\n",
       "          Foot            154\n",
       "          Other            56\n",
       "Name: flee, dtype: int64"
      ]
     },
     "execution_count": 103,
     "metadata": {},
     "output_type": "execute_result"
    }
   ],
   "source": [
    "flee_by_race_series "
   ]
  },
  {
   "cell_type": "code",
   "execution_count": 104,
   "metadata": {},
   "outputs": [
    {
     "data": {
      "text/plain": [
       "race\n",
       "Asian       0.207547\n",
       "Black       0.371728\n",
       "Hispanic    0.325234\n",
       "Other       0.258065\n",
       "White       0.269582\n",
       "Name: flee, dtype: float64"
      ]
     },
     "execution_count": 104,
     "metadata": {},
     "output_type": "execute_result"
    }
   ],
   "source": [
    "# Group the data by the \"race\" column and calculate the percentage of individuals who fled\n",
    "flee_by_race = flee_by_race_series.groupby(level=0).apply(lambda x: x[0] / (x[0] + x[1] + x[2]))\n",
    "\n",
    "# Define a custom function that calculates the opposite value of a number\n",
    "def opposite(x):\n",
    "  return 1 - x\n",
    "\n",
    "flee_by_race = flee_by_race.apply(opposite)\n",
    "flee_by_race"
   ]
  },
  {
   "cell_type": "code",
   "execution_count": 106,
   "metadata": {},
   "outputs": [
    {
     "data": {
      "text/plain": [
       "Text(0.5, 1.0, 'Percentage (%) of Police Shooting Victims Who Fled')"
      ]
     },
     "execution_count": 106,
     "metadata": {},
     "output_type": "execute_result"
    },
    {
     "data": {
      "image/png": "[encoded data removed]",
      "text/plain": [
       "<Figure size 576x288 with 1 Axes>"
      ]
     },
     "metadata": {
      "needs_background": "light"
     },
     "output_type": "display_data"
    }
   ],
   "source": [
    "plt.bar(x=flee_by_race.index, height=flee_by_race.values, color=colors)\n",
    "\n",
    "plt.xticks(fontsize=10)\n",
    "plt.xlabel('Race', fontweight='bold', fontsize=13)\n",
    "plt.ylabel('Percent (%)', fontweight='bold', fontsize=13)\n",
    "plt.title('Percentage (%) of Police Shooting Victims Who Fled', fontname='Arial')"
   ]
  },
  {
   "cell_type": "markdown",
   "metadata": {},
   "source": [
    "***Here, we can store the racial makeup of the dataset into separate datasets of their own for better comparison***"
   ]
  },
  {
   "cell_type": "code",
   "execution_count": 20,
   "metadata": {},
   "outputs": [],
   "source": [
    "asian_police_shooting_victims = police_shootings_df[police_shootings_df['race'] == 'A']\n",
    "white_police_shooting_victims = police_shootings_df[police_shootings_df['race'] == 'W']\n",
    "hispanic = police_shootings_df[police_shootings_df['race'] == 'H']\n",
    "black_police_shooting_victims = police_shootings_df[police_shootings_df['race'] == 'B']\n",
    "other_police_shooting_victims = police_shootings_df[police_shootings_df['race'] == 'O']"
   ]
  },
  {
   "cell_type": "code",
   "execution_count": 21,
   "metadata": {},
   "outputs": [
    {
     "data": {
      "text/plain": [
       "count    1622.000000\n",
       "mean       39.833539\n",
       "std        13.270941\n",
       "min         6.000000\n",
       "25%        30.000000\n",
       "50%        38.000000\n",
       "75%        49.000000\n",
       "max        91.000000\n",
       "Name: age, dtype: float64"
      ]
     },
     "execution_count": 21,
     "metadata": {},
     "output_type": "execute_result"
    }
   ],
   "source": [
    "white_police_shooting_victims['age'].describe()"
   ]
  },
  {
   "cell_type": "code",
   "execution_count": 42,
   "metadata": {},
   "outputs": [
    {
     "data": {
      "text/plain": [
       "count    1622.000000\n",
       "mean       39.833539\n",
       "std        13.270941\n",
       "min         6.000000\n",
       "25%        30.000000\n",
       "50%        38.000000\n",
       "75%        49.000000\n",
       "max        91.000000\n",
       "Name: age, dtype: float64"
      ]
     },
     "execution_count": 42,
     "metadata": {},
     "output_type": "execute_result"
    }
   ],
   "source": [
    "white_police_shooting_victims['age'].describe()"
   ]
  },
  {
   "cell_type": "code",
   "execution_count": 110,
   "metadata": {},
   "outputs": [
    {
     "data": {
      "text/html": [
       "<div>\n",
       "<style scoped>\n",
       "    .dataframe tbody tr th:only-of-type {\n",
       "        vertical-align: middle;\n",
       "    }\n",
       "\n",
       "    .dataframe tbody tr th {\n",
       "        vertical-align: top;\n",
       "    }\n",
       "\n",
       "    .dataframe thead th {\n",
       "        text-align: right;\n",
       "    }\n",
       "</style>\n",
       "<table border=\"1\" class=\"dataframe\">\n",
       "  <thead>\n",
       "    <tr style=\"text-align: right;\">\n",
       "      <th></th>\n",
       "      <th>id</th>\n",
       "      <th>name</th>\n",
       "      <th>date</th>\n",
       "      <th>manner_of_death</th>\n",
       "      <th>armed</th>\n",
       "      <th>age</th>\n",
       "      <th>gender</th>\n",
       "      <th>race</th>\n",
       "      <th>city</th>\n",
       "      <th>state</th>\n",
       "      <th>signs_of_mental_illness</th>\n",
       "      <th>threat_level</th>\n",
       "      <th>flee</th>\n",
       "      <th>body_camera</th>\n",
       "    </tr>\n",
       "  </thead>\n",
       "  <tbody>\n",
       "    <tr>\n",
       "      <th>1</th>\n",
       "      <td>4</td>\n",
       "      <td>Lewis Lee Lembke</td>\n",
       "      <td>2015-01-02</td>\n",
       "      <td>shot</td>\n",
       "      <td>gun</td>\n",
       "      <td>47.0</td>\n",
       "      <td>M</td>\n",
       "      <td>White</td>\n",
       "      <td>Aloha</td>\n",
       "      <td>OR</td>\n",
       "      <td>False</td>\n",
       "      <td>attack</td>\n",
       "      <td>Not fleeing</td>\n",
       "      <td>False</td>\n",
       "    </tr>\n",
       "    <tr>\n",
       "      <th>3</th>\n",
       "      <td>8</td>\n",
       "      <td>Matthew Hoffman</td>\n",
       "      <td>2015-01-04</td>\n",
       "      <td>shot</td>\n",
       "      <td>toy weapon</td>\n",
       "      <td>32.0</td>\n",
       "      <td>M</td>\n",
       "      <td>White</td>\n",
       "      <td>San Francisco</td>\n",
       "      <td>CA</td>\n",
       "      <td>True</td>\n",
       "      <td>attack</td>\n",
       "      <td>Not fleeing</td>\n",
       "      <td>False</td>\n",
       "    </tr>\n",
       "    <tr>\n",
       "      <th>5</th>\n",
       "      <td>11</td>\n",
       "      <td>Kenneth Joe Brown</td>\n",
       "      <td>2015-01-04</td>\n",
       "      <td>shot</td>\n",
       "      <td>gun</td>\n",
       "      <td>18.0</td>\n",
       "      <td>M</td>\n",
       "      <td>White</td>\n",
       "      <td>Guthrie</td>\n",
       "      <td>OK</td>\n",
       "      <td>False</td>\n",
       "      <td>attack</td>\n",
       "      <td>Not fleeing</td>\n",
       "      <td>False</td>\n",
       "    </tr>\n",
       "    <tr>\n",
       "      <th>7</th>\n",
       "      <td>15</td>\n",
       "      <td>Brock Nichols</td>\n",
       "      <td>2015-01-06</td>\n",
       "      <td>shot</td>\n",
       "      <td>gun</td>\n",
       "      <td>35.0</td>\n",
       "      <td>M</td>\n",
       "      <td>White</td>\n",
       "      <td>Assaria</td>\n",
       "      <td>KS</td>\n",
       "      <td>False</td>\n",
       "      <td>attack</td>\n",
       "      <td>Not fleeing</td>\n",
       "      <td>False</td>\n",
       "    </tr>\n",
       "    <tr>\n",
       "      <th>8</th>\n",
       "      <td>16</td>\n",
       "      <td>Autumn Steele</td>\n",
       "      <td>2015-01-06</td>\n",
       "      <td>shot</td>\n",
       "      <td>unarmed</td>\n",
       "      <td>34.0</td>\n",
       "      <td>F</td>\n",
       "      <td>White</td>\n",
       "      <td>Burlington</td>\n",
       "      <td>IA</td>\n",
       "      <td>False</td>\n",
       "      <td>other</td>\n",
       "      <td>Not fleeing</td>\n",
       "      <td>True</td>\n",
       "    </tr>\n",
       "  </tbody>\n",
       "</table>\n",
       "</div>"
      ],
      "text/plain": [
       "   id               name        date manner_of_death       armed   age gender  \\\n",
       "1   4   Lewis Lee Lembke  2015-01-02            shot         gun  47.0      M   \n",
       "3   8    Matthew Hoffman  2015-01-04            shot  toy weapon  32.0      M   \n",
       "5  11  Kenneth Joe Brown  2015-01-04            shot         gun  18.0      M   \n",
       "7  15      Brock Nichols  2015-01-06            shot         gun  35.0      M   \n",
       "8  16      Autumn Steele  2015-01-06            shot     unarmed  34.0      F   \n",
       "\n",
       "    race           city state  signs_of_mental_illness threat_level  \\\n",
       "1  White          Aloha    OR                    False       attack   \n",
       "3  White  San Francisco    CA                     True       attack   \n",
       "5  White        Guthrie    OK                    False       attack   \n",
       "7  White        Assaria    KS                    False       attack   \n",
       "8  White     Burlington    IA                    False        other   \n",
       "\n",
       "          flee  body_camera  \n",
       "1  Not fleeing        False  \n",
       "3  Not fleeing        False  \n",
       "5  Not fleeing        False  \n",
       "7  Not fleeing        False  \n",
       "8  Not fleeing         True  "
      ]
     },
     "execution_count": 110,
     "metadata": {},
     "output_type": "execute_result"
    }
   ],
   "source": [
    "b_and_w_police_shootings = police_shootings_df[police_shootings_df['race'].isin(['Black', 'White'])]\n",
    "b_and_w_police_shootings[:5]"
   ]
  },
  {
   "cell_type": "markdown",
   "metadata": {},
   "source": [
    "***We notice here that black victims tended to be significantly younger than white victims***\n",
    "\n",
    "***It is important to consider context in data and not make assumptions on individuals***"
   ]
  },
  {
   "cell_type": "code",
   "execution_count": 112,
   "metadata": {},
   "outputs": [
    {
     "data": {
      "text/plain": [
       "Text(0.5, 1.0, 'Black and white police shooting victims age distribution')"
      ]
     },
     "execution_count": 112,
     "metadata": {},
     "output_type": "execute_result"
    },
    {
     "data": {
      "image/png": "[encoded data removed]",
      "text/plain": [
       "<Figure size 576x288 with 1 Axes>"
      ]
     },
     "metadata": {
      "needs_background": "light"
     },
     "output_type": "display_data"
    }
   ],
   "source": [
    "sns.histplot(data=b_and_w_police_shootings, x=b_and_w_police_shootings['age'], hue=b_and_w_police_shootings['race'], color='red')\n",
    "plt.xlabel('Age of victim')\n",
    "plt.ylabel('Count')\n",
    "plt.title('Black and white police shooting victims age distribution')"
   ]
  },
  {
   "cell_type": "code",
   "execution_count": 117,
   "metadata": {},
   "outputs": [
    {
     "data": {
      "text/plain": [
       "gender  threat_level\n",
       "F       attack            85\n",
       "        other             60\n",
       "        undetermined       6\n",
       "M       attack          2083\n",
       "        other           1054\n",
       "        undetermined     171\n",
       "Name: threat_level, dtype: int64"
      ]
     },
     "execution_count": 117,
     "metadata": {},
     "output_type": "execute_result"
    }
   ],
   "source": [
    "male_female_threat_level_series = police_shootings_df.groupby('gender')['threat_level'].value_counts()\n",
    "male_female_threat_level_series"
   ]
  },
  {
   "cell_type": "code",
   "execution_count": 120,
   "metadata": {},
   "outputs": [
    {
     "data": {
      "text/plain": [
       "gender\n",
       "F    0.562914\n",
       "M    0.629686\n",
       "Name: threat_level, dtype: float64"
      ]
     },
     "execution_count": 120,
     "metadata": {},
     "output_type": "execute_result"
    }
   ],
   "source": [
    "male_female_threat_level = male_female_threat_level_series.groupby(level=0).apply(lambda x: x[0] / (x[0] + x[1] + x[2]))\n",
    "male_female_threat_level"
   ]
  },
  {
   "cell_type": "markdown",
   "metadata": {},
   "source": [
    "***Men appear to be more likely to have attacked***"
   ]
  },
  {
   "cell_type": "code",
   "execution_count": 124,
   "metadata": {},
   "outputs": [
    {
     "data": {
      "text/plain": [
       "Text(0.5, 1.0, 'Percentage (%) of Police Shooting Victims Who Attacked')"
      ]
     },
     "execution_count": 124,
     "metadata": {},
     "output_type": "execute_result"
    },
    {
     "data": {
      "image/png": "[encoded data removed]",
      "text/plain": [
       "<Figure size 360x432 with 1 Axes>"
      ]
     },
     "metadata": {
      "needs_background": "light"
     },
     "output_type": "display_data"
    }
   ],
   "source": [
    "plt.figure(figsize=(5, 6))\n",
    "plt.bar(x=male_female_threat_level.index, height=male_female_threat_level.values, color=colors)\n",
    "\n",
    "plt.xticks(fontsize=10)\n",
    "plt.xlabel('Gender', fontweight='bold', fontsize=13)\n",
    "plt.ylabel('Percent (%)', fontweight='bold', fontsize=13)\n",
    "plt.title('Percentage (%) of Police Shooting Victims Who Attacked', fontname='Arial')"
   ]
  },
  {
   "cell_type": "markdown",
   "metadata": {},
   "source": [
    "***Which states had the most police shooting victims?***"
   ]
  },
  {
   "cell_type": "code",
   "execution_count": 128,
   "metadata": {},
   "outputs": [
    {
     "data": {
      "text/plain": [
       "state\n",
       "CA    545\n",
       "TX    306\n",
       "FL    209\n",
       "AZ    170\n",
       "CO    115\n",
       "GA    111\n",
       "OH    107\n",
       "OK    104\n",
       "NC     92\n",
       "MO     90\n",
       "WA     86\n",
       "IL     79\n",
       "TN     78\n",
       "PA     76\n",
       "LA     75\n",
       "AL     73\n",
       "NM     70\n",
       "VA     67\n",
       "KY     64\n",
       "IN     62\n",
       "WI     59\n",
       "NY     59\n",
       "NV     57\n",
       "MI     56\n",
       "SC     52\n",
       "OR     51\n",
       "NJ     45\n",
       "MD     44\n",
       "AR     41\n",
       "MS     40\n",
       "MN     39\n",
       "WV     37\n",
       "KS     34\n",
       "UT     33\n",
       "ID     29\n",
       "MA     25\n",
       "AK     23\n",
       "MT     19\n",
       "IA     19\n",
       "NE     15\n",
       "ME     15\n",
       "SD     12\n",
       "HI     12\n",
       "DC     12\n",
       "CT     12\n",
       "WY     11\n",
       "DE     10\n",
       "NH      8\n",
       "ND      7\n",
       "VT      6\n",
       "RI      3\n",
       "dtype: int64"
      ]
     },
     "execution_count": 128,
     "metadata": {},
     "output_type": "execute_result"
    }
   ],
   "source": [
    "police_shootings_df.value_counts('state')"
   ]
  },
  {
   "cell_type": "code",
   "execution_count": 139,
   "metadata": {},
   "outputs": [
    {
     "data": {
      "text/plain": [
       "Text(0.5, 1.0, 'States Where Police Shootings Occurred the Most')"
      ]
     },
     "execution_count": 139,
     "metadata": {},
     "output_type": "execute_result"
    },
    {
     "data": {
      "image/png": "[encoded data removed]",
      "text/plain": [
       "<Figure size 1224x432 with 1 Axes>"
      ]
     },
     "metadata": {
      "needs_background": "light"
     },
     "output_type": "display_data"
    }
   ],
   "source": [
    "plt.figure(figsize=(17, 6))\n",
    "\n",
    "plt.bar(x=police_shootings_df['state'].value_counts().index, height=police_shootings_df['state'].value_counts().values, color=colors)\n",
    "\n",
    "\n",
    "plt.xticks(fontsize=10, rotation=45)\n",
    "plt.xlabel('State', fontweight='bold', fontsize=13)\n",
    "plt.ylabel('Count', fontweight='bold', fontsize=13)\n",
    "plt.title('States Where Police Shootings Occurred the Most', fontname='Arial')"
   ]
  },
  {
   "cell_type": "markdown",
   "metadata": {},
   "source": [
    "***How many people died in the state of New York in the dataset?***"
   ]
  },
  {
   "cell_type": "code",
   "execution_count": 127,
   "metadata": {},
   "outputs": [
    {
     "data": {
      "text/html": [
       "<div>\n",
       "<style scoped>\n",
       "    .dataframe tbody tr th:only-of-type {\n",
       "        vertical-align: middle;\n",
       "    }\n",
       "\n",
       "    .dataframe tbody tr th {\n",
       "        vertical-align: top;\n",
       "    }\n",
       "\n",
       "    .dataframe thead th {\n",
       "        text-align: right;\n",
       "    }\n",
       "</style>\n",
       "<table border=\"1\" class=\"dataframe\">\n",
       "  <thead>\n",
       "    <tr style=\"text-align: right;\">\n",
       "      <th></th>\n",
       "      <th>id</th>\n",
       "      <th>name</th>\n",
       "      <th>date</th>\n",
       "      <th>manner_of_death</th>\n",
       "      <th>armed</th>\n",
       "      <th>age</th>\n",
       "      <th>gender</th>\n",
       "      <th>race</th>\n",
       "      <th>city</th>\n",
       "      <th>state</th>\n",
       "      <th>signs_of_mental_illness</th>\n",
       "      <th>threat_level</th>\n",
       "      <th>flee</th>\n",
       "      <th>body_camera</th>\n",
       "    </tr>\n",
       "  </thead>\n",
       "  <tbody>\n",
       "    <tr>\n",
       "      <th>95</th>\n",
       "      <td>133</td>\n",
       "      <td>Vincent Cordaro</td>\n",
       "      <td>2015-02-08</td>\n",
       "      <td>shot</td>\n",
       "      <td>gun</td>\n",
       "      <td>57.0</td>\n",
       "      <td>M</td>\n",
       "      <td>W</td>\n",
       "      <td>New City</td>\n",
       "      <td>NY</td>\n",
       "      <td>True</td>\n",
       "      <td>attack</td>\n",
       "      <td>Not fleeing</td>\n",
       "      <td>False</td>\n",
       "    </tr>\n",
       "    <tr>\n",
       "      <th>214</th>\n",
       "      <td>309</td>\n",
       "      <td>James Ellis</td>\n",
       "      <td>2015-03-21</td>\n",
       "      <td>shot</td>\n",
       "      <td>gun</td>\n",
       "      <td>44.0</td>\n",
       "      <td>M</td>\n",
       "      <td>W</td>\n",
       "      <td>Clarendon</td>\n",
       "      <td>NY</td>\n",
       "      <td>False</td>\n",
       "      <td>attack</td>\n",
       "      <td>Car</td>\n",
       "      <td>False</td>\n",
       "    </tr>\n",
       "    <tr>\n",
       "      <th>220</th>\n",
       "      <td>234</td>\n",
       "      <td>Denzel Brown</td>\n",
       "      <td>2015-03-22</td>\n",
       "      <td>shot and Tasered</td>\n",
       "      <td>undetermined</td>\n",
       "      <td>21.0</td>\n",
       "      <td>M</td>\n",
       "      <td>B</td>\n",
       "      <td>Islip</td>\n",
       "      <td>NY</td>\n",
       "      <td>False</td>\n",
       "      <td>attack</td>\n",
       "      <td>Car</td>\n",
       "      <td>False</td>\n",
       "    </tr>\n",
       "    <tr>\n",
       "      <th>301</th>\n",
       "      <td>395</td>\n",
       "      <td>Jonathan Efraim</td>\n",
       "      <td>2015-04-22</td>\n",
       "      <td>shot</td>\n",
       "      <td>gun</td>\n",
       "      <td>30.0</td>\n",
       "      <td>M</td>\n",
       "      <td>W</td>\n",
       "      <td>Queens</td>\n",
       "      <td>NY</td>\n",
       "      <td>True</td>\n",
       "      <td>attack</td>\n",
       "      <td>Foot</td>\n",
       "      <td>False</td>\n",
       "    </tr>\n",
       "    <tr>\n",
       "      <th>312</th>\n",
       "      <td>411</td>\n",
       "      <td>David Felix</td>\n",
       "      <td>2015-04-25</td>\n",
       "      <td>shot</td>\n",
       "      <td>unarmed</td>\n",
       "      <td>24.0</td>\n",
       "      <td>M</td>\n",
       "      <td>B</td>\n",
       "      <td>New York</td>\n",
       "      <td>NY</td>\n",
       "      <td>True</td>\n",
       "      <td>attack</td>\n",
       "      <td>Foot</td>\n",
       "      <td>False</td>\n",
       "    </tr>\n",
       "  </tbody>\n",
       "</table>\n",
       "</div>"
      ],
      "text/plain": [
       "      id             name        date   manner_of_death         armed   age  \\\n",
       "95   133  Vincent Cordaro  2015-02-08              shot           gun  57.0   \n",
       "214  309      James Ellis  2015-03-21              shot           gun  44.0   \n",
       "220  234     Denzel Brown  2015-03-22  shot and Tasered  undetermined  21.0   \n",
       "301  395  Jonathan Efraim  2015-04-22              shot           gun  30.0   \n",
       "312  411      David Felix  2015-04-25              shot       unarmed  24.0   \n",
       "\n",
       "    gender race       city state  signs_of_mental_illness threat_level  \\\n",
       "95       M    W   New City    NY                     True       attack   \n",
       "214      M    W  Clarendon    NY                    False       attack   \n",
       "220      M    B      Islip    NY                    False       attack   \n",
       "301      M    W     Queens    NY                     True       attack   \n",
       "312      M    B   New York    NY                     True       attack   \n",
       "\n",
       "            flee  body_camera  \n",
       "95   Not fleeing        False  \n",
       "214          Car        False  \n",
       "220          Car        False  \n",
       "301         Foot        False  \n",
       "312         Foot        False  "
      ]
     },
     "execution_count": 127,
     "metadata": {},
     "output_type": "execute_result"
    }
   ],
   "source": [
    "new_york_police_shootings = police_shootings_df[police_shootings_df['state'].isin(['NY'])]\n",
    "new_york_police_shootings[:5]"
   ]
  },
  {
   "cell_type": "code",
   "execution_count": 128,
   "metadata": {},
   "outputs": [
    {
     "data": {
      "text/plain": [
       "59"
      ]
     },
     "execution_count": 128,
     "metadata": {},
     "output_type": "execute_result"
    }
   ],
   "source": [
    "len(new_york_police_shootings)"
   ]
  },
  {
   "cell_type": "markdown",
   "metadata": {},
   "source": [
    "***How many in California?***"
   ]
  },
  {
   "cell_type": "code",
   "execution_count": 125,
   "metadata": {},
   "outputs": [
    {
     "data": {
      "text/html": [
       "<div>\n",
       "<style scoped>\n",
       "    .dataframe tbody tr th:only-of-type {\n",
       "        vertical-align: middle;\n",
       "    }\n",
       "\n",
       "    .dataframe tbody tr th {\n",
       "        vertical-align: top;\n",
       "    }\n",
       "\n",
       "    .dataframe thead th {\n",
       "        text-align: right;\n",
       "    }\n",
       "</style>\n",
       "<table border=\"1\" class=\"dataframe\">\n",
       "  <thead>\n",
       "    <tr style=\"text-align: right;\">\n",
       "      <th></th>\n",
       "      <th>id</th>\n",
       "      <th>name</th>\n",
       "      <th>date</th>\n",
       "      <th>manner_of_death</th>\n",
       "      <th>armed</th>\n",
       "      <th>age</th>\n",
       "      <th>gender</th>\n",
       "      <th>race</th>\n",
       "      <th>city</th>\n",
       "      <th>state</th>\n",
       "      <th>signs_of_mental_illness</th>\n",
       "      <th>threat_level</th>\n",
       "      <th>flee</th>\n",
       "      <th>body_camera</th>\n",
       "    </tr>\n",
       "  </thead>\n",
       "  <tbody>\n",
       "    <tr>\n",
       "      <th>3</th>\n",
       "      <td>8</td>\n",
       "      <td>Matthew Hoffman</td>\n",
       "      <td>2015-01-04</td>\n",
       "      <td>shot</td>\n",
       "      <td>toy weapon</td>\n",
       "      <td>32.0</td>\n",
       "      <td>M</td>\n",
       "      <td>White</td>\n",
       "      <td>San Francisco</td>\n",
       "      <td>CA</td>\n",
       "      <td>True</td>\n",
       "      <td>attack</td>\n",
       "      <td>Not fleeing</td>\n",
       "      <td>False</td>\n",
       "    </tr>\n",
       "    <tr>\n",
       "      <th>10</th>\n",
       "      <td>19</td>\n",
       "      <td>Patrick Wetter</td>\n",
       "      <td>2015-01-06</td>\n",
       "      <td>shot and Tasered</td>\n",
       "      <td>knife</td>\n",
       "      <td>25.0</td>\n",
       "      <td>M</td>\n",
       "      <td>White</td>\n",
       "      <td>Stockton</td>\n",
       "      <td>CA</td>\n",
       "      <td>False</td>\n",
       "      <td>attack</td>\n",
       "      <td>Not fleeing</td>\n",
       "      <td>False</td>\n",
       "    </tr>\n",
       "    <tr>\n",
       "      <th>22</th>\n",
       "      <td>43</td>\n",
       "      <td>Brian  Barbosa</td>\n",
       "      <td>2015-01-11</td>\n",
       "      <td>shot</td>\n",
       "      <td>gun</td>\n",
       "      <td>23.0</td>\n",
       "      <td>M</td>\n",
       "      <td>Hispanic</td>\n",
       "      <td>South Gate</td>\n",
       "      <td>CA</td>\n",
       "      <td>False</td>\n",
       "      <td>attack</td>\n",
       "      <td>Not fleeing</td>\n",
       "      <td>False</td>\n",
       "    </tr>\n",
       "    <tr>\n",
       "      <th>35</th>\n",
       "      <td>63</td>\n",
       "      <td>Jose Ceja</td>\n",
       "      <td>2015-01-15</td>\n",
       "      <td>shot</td>\n",
       "      <td>knife</td>\n",
       "      <td>36.0</td>\n",
       "      <td>M</td>\n",
       "      <td>Hispanic</td>\n",
       "      <td>Fairfield</td>\n",
       "      <td>CA</td>\n",
       "      <td>True</td>\n",
       "      <td>other</td>\n",
       "      <td>Not fleeing</td>\n",
       "      <td>False</td>\n",
       "    </tr>\n",
       "    <tr>\n",
       "      <th>38</th>\n",
       "      <td>68</td>\n",
       "      <td>Zaki Shinwary</td>\n",
       "      <td>2015-01-16</td>\n",
       "      <td>shot and Tasered</td>\n",
       "      <td>knife</td>\n",
       "      <td>48.0</td>\n",
       "      <td>M</td>\n",
       "      <td>Other</td>\n",
       "      <td>Fremont</td>\n",
       "      <td>CA</td>\n",
       "      <td>False</td>\n",
       "      <td>other</td>\n",
       "      <td>Not fleeing</td>\n",
       "      <td>False</td>\n",
       "    </tr>\n",
       "  </tbody>\n",
       "</table>\n",
       "</div>"
      ],
      "text/plain": [
       "    id             name        date   manner_of_death       armed   age  \\\n",
       "3    8  Matthew Hoffman  2015-01-04              shot  toy weapon  32.0   \n",
       "10  19   Patrick Wetter  2015-01-06  shot and Tasered       knife  25.0   \n",
       "22  43   Brian  Barbosa  2015-01-11              shot         gun  23.0   \n",
       "35  63        Jose Ceja  2015-01-15              shot       knife  36.0   \n",
       "38  68    Zaki Shinwary  2015-01-16  shot and Tasered       knife  48.0   \n",
       "\n",
       "   gender      race           city state  signs_of_mental_illness  \\\n",
       "3       M     White  San Francisco    CA                     True   \n",
       "10      M     White       Stockton    CA                    False   \n",
       "22      M  Hispanic     South Gate    CA                    False   \n",
       "35      M  Hispanic      Fairfield    CA                     True   \n",
       "38      M     Other        Fremont    CA                    False   \n",
       "\n",
       "   threat_level         flee  body_camera  \n",
       "3        attack  Not fleeing        False  \n",
       "10       attack  Not fleeing        False  \n",
       "22       attack  Not fleeing        False  \n",
       "35        other  Not fleeing        False  \n",
       "38        other  Not fleeing        False  "
      ]
     },
     "execution_count": 125,
     "metadata": {},
     "output_type": "execute_result"
    }
   ],
   "source": [
    "california_police_shootings = police_shootings_df[police_shootings_df['state'].isin(['CA'])]\n",
    "california_police_shootings[:5]"
   ]
  },
  {
   "cell_type": "code",
   "execution_count": 126,
   "metadata": {},
   "outputs": [
    {
     "data": {
      "text/plain": [
       "545"
      ]
     },
     "execution_count": 126,
     "metadata": {},
     "output_type": "execute_result"
    }
   ],
   "source": [
    "len(california_police_shootings)"
   ]
  },
  {
   "cell_type": "code",
   "execution_count": 133,
   "metadata": {},
   "outputs": [
    {
     "data": {
      "text/plain": [
       "array(['New City', 'Clarendon', 'Islip', 'Queens', 'New York', 'Beacon',\n",
       "       'Constantia', 'Greece', 'Bronx', 'Coney Island', 'Malone',\n",
       "       'Edinburg', 'Staten Island', 'Troy', 'Mount Vernon', 'Potsdam',\n",
       "       'New Paltz', 'Yonkers', 'Syracuse', 'Cheektowaga', 'Rochester',\n",
       "       'Rotterdam', 'Berne', 'Schenectady', 'Middletown', 'Brooklyn',\n",
       "       'Buffalo', 'Glenville', 'Canandaigua', 'Horseheads', 'Tremont',\n",
       "       'Elmira', 'Manhasset', 'Pembroke', 'Merrick', 'Warwick'],\n",
       "      dtype=object)"
      ]
     },
     "execution_count": 133,
     "metadata": {},
     "output_type": "execute_result"
    }
   ],
   "source": [
    "new_york_police_shootings['city'].unique()"
   ]
  },
  {
   "cell_type": "markdown",
   "metadata": {},
   "source": [
    "***Which cities in California did it happen in most***"
   ]
  },
  {
   "cell_type": "code",
   "execution_count": 142,
   "metadata": {},
   "outputs": [
    {
     "data": {
      "text/plain": [
       "<AxesSubplot:ylabel='city'>"
      ]
     },
     "execution_count": 142,
     "metadata": {},
     "output_type": "execute_result"
    },
    {
     "data": {
      "image/png": "[encoded data removed]",
      "text/plain": [
       "<Figure size 2160x360 with 1 Axes>"
      ]
     },
     "metadata": {
      "needs_background": "light"
     },
     "output_type": "display_data"
    }
   ],
   "source": [
    "plt.figure(figsize=(30, 5))\n",
    "sns.barplot(x=california_police_shootings['city'].unique()[:13], y=california_police_shootings['city'].value_counts()[:13])"
   ]
  },
  {
   "cell_type": "markdown",
   "metadata": {},
   "source": [
    "***Thank you for reading!***"
   ]
  },
  {
   "cell_type": "code",
   "execution_count": null,
   "metadata": {},
   "outputs": [],
   "source": []
  }
 ],
 "metadata": {
  "interpreter": {
   "hash": "a0a5145e6c304e2a9afaf5b930a2955b950bd4b81fe94f7c42930f43f42762eb"
  },
  "kernelspec": {
   "display_name": "Python 3.10.2 64-bit",
   "language": "python",
   "name": "python3"
  },
  "language_info": {
   "codemirror_mode": {
    "name": "ipython",
    "version": 3
   },
   "file_extension": ".py",
   "mimetype": "text/x-python",
   "name": "python",
   "nbconvert_exporter": "python",
   "pygments_lexer": "ipython3",
   "version": "3.10.2"
  },
  "orig_nbformat": 4
 },
 "nbformat": 4,
 "nbformat_minor": 2
}
